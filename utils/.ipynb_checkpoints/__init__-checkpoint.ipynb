{
 "cells": [
  {
   "cell_type": "code",
   "execution_count": null,
   "metadata": {},
   "outputs": [],
   "source": [
    "import os, sys\n",
    "sys.path.append(os.path.realpath('..'))\n",
    "\n",
    "from tensorflow import keras\n",
    "import numpy as np"
   ]
  },
  {
   "cell_type": "code",
   "execution_count": 5,
   "metadata": {},
   "outputs": [],
   "source": [
    "def chance(rate, size=None):\n",
    "    \"\"\"\n",
    "    Returns true based on the propabilty (rate) provided.\n",
    "    \n",
    "    Parameters\n",
    "    -----------\n",
    "    rate: int\n",
    "        A number between 0-1 that represents a probability.\n",
    "    size: int or tuple, optional\n",
    "        The shape of the output.\n",
    "    \n",
    "    Returns\n",
    "    --------\n",
    "    out: bool\n",
    "    \"\"\"\n",
    "    return np.random.random_sample(size) < rate"
   ]
  },
  {
   "cell_type": "code",
   "execution_count": 60,
   "metadata": {},
   "outputs": [],
   "source": [
    "def fill_array(a, b):\n",
    "    \"\"\"\n",
    "    Fill an array with another array while maintaining original values where they have not been overwritten.\n",
    "    \n",
    "    Parameters\n",
    "    -----------\n",
    "    a: array or list\n",
    "        An array.\n",
    "    b: array or list\n",
    "        An array.\n",
    "    \n",
    "    Returns\n",
    "    --------\n",
    "    out: np.array\n",
    "        A copy of the first array where values from the second array are overwritten in the shared dimensions between the two arrays.\n",
    "        \n",
    "    Examples\n",
    "    ---------\n",
    "    >> a = np.zeros((3, 3))\n",
    "    >> b = np.ones((2, 2))\n",
    "    \n",
    "    # array([[1., 1., 0.],\n",
    "    #       [1., 1., 0.],\n",
    "    #       [0., 0., 0.]])\n",
    "    \"\"\"\n",
    "    a, b = np.array(a), np.array(b)\n",
    "    x1, x2 = np.min((a.shape, b.shape), 0)\n",
    "    c = a.copy()\n",
    "    c[:x1, :x2] = b[:x1, :x2]\n",
    "    return c"
   ]
  },
  {
   "cell_type": "code",
   "execution_count": 1,
   "metadata": {},
   "outputs": [],
   "source": [
    "def mutate_genome(genome, node_add_rate=0.1, node_remove_rate=0.1, layer_add_rate=0.01, layer_remove_rate=0.01, weights_change_rate=0.2, biases_change_rate=0.7):\n",
    "    \"\"\"\n",
    "    Returns a mutated version of the given genome.\n",
    "    \"\"\"\n",
    "    for layer in genome.layers:\n",
    "        if chance(layer_remove_rate):\n",
    "            genome.remove_layer(layer)\n",
    "        elif chance(node_add_rate):\n",
    "            genome.add_node(layer)\n",
    "        elif chance(node_remove_rate):\n",
    "            genome.remove_node(layer)\n",
    "        \n",
    "        if chance(weights_change_rate):\n",
    "            genome.change_weights(layer)\n",
    "        if chance(biases_change_rate):\n",
    "            genome.change_biases(layer)\n",
    "    \n",
    "    if chance(layer_add_rate):\n",
    "        genome.add_hidden_layer()\n",
    "    \n",
    "    return genome"
   ]
  },
  {
   "cell_type": "code",
   "execution_count": null,
   "metadata": {},
   "outputs": [],
   "source": []
  }
 ],
 "metadata": {
  "kernelspec": {
   "display_name": "Python 3",
   "language": "python",
   "name": "python3"
  },
  "language_info": {
   "codemirror_mode": {
    "name": "ipython",
    "version": 3
   },
   "file_extension": ".py",
   "mimetype": "text/x-python",
   "name": "python",
   "nbconvert_exporter": "python",
   "pygments_lexer": "ipython3",
   "version": "3.7.4"
  }
 },
 "nbformat": 4,
 "nbformat_minor": 4
}
