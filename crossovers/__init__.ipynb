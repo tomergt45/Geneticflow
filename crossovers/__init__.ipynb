{
 "cells": [
  {
   "cell_type": "code",
   "execution_count": 7,
   "metadata": {},
   "outputs": [],
   "source": [
    "import os, sys\n",
    "sys.path.append(os.path.realpath('..'))\n",
    "\n",
    "import tensorflow as tf\n",
    "import numpy as np\n",
    "from tensorflow import keras\n",
    "\n",
    "import utils"
   ]
  },
  {
   "cell_type": "code",
   "execution_count": 3,
   "metadata": {},
   "outputs": [],
   "source": [
    "def get(name):\n",
    "    return globals()[name]"
   ]
  },
  {
   "cell_type": "code",
   "execution_count": 5,
   "metadata": {},
   "outputs": [],
   "source": [
    "def linear(genomes):\n",
    "    \"\"\"\n",
    "    Linear crossover, evenly combine the genetic information from all the given genomes.\n",
    "    \n",
    "    Parameters\n",
    "    -----------\n",
    "    genomes: list of Genomne\n",
    "        A list of genomes with the same parameters.\n",
    "    \n",
    "    Returns\n",
    "    --------\n",
    "    out: Genome\n",
    "    \"\"\"\n",
    "    from genomes import Genome\n",
    "    new_props = utils.evenly_combine(genomes, select=lambda x: x.props)\n",
    "    return Genome(**new_props)"
   ]
  },
  {
   "cell_type": "code",
   "execution_count": 35,
   "metadata": {},
   "outputs": [],
   "source": [
    "def defaultNN(genomes):\n",
    "    \"\"\"\n",
    "    Default crossover function for the NEAT algorithm. Splits the given models evenly and prdocues a new neural network with layers from all the given genomes.\n",
    "\n",
    "    Parameters\n",
    "    -----------\n",
    "    genomes: tuple\n",
    "        A tuple containing 2 or more neural network models.\n",
    "\n",
    "    Returns\n",
    "    --------\n",
    "    out: keras.Model\n",
    "    \"\"\"\n",
    "    max_layers_count = max(len(genome.layers)-2 for genome in genomes)\n",
    "    layers_per_genome = int(np.ceil(max_layers_count / len(models)))\n",
    "\n",
    "    layers = [genomes[0].layers[0]]\n",
    "\n",
    "    for i, genome in enumerate(genomes):\n",
    "        start_layer_index = layers_per_genome*i\n",
    "        end_layer_index = start_layer_index + layers_per_genome\n",
    "\n",
    "        layers.extend(genome.layers[1:-1][start_layer_index:end_layer_index])\n",
    "\n",
    "    layers.append(genomes[-1].layers[-1])\n",
    "    return utils.connect_layers(layers)"
   ]
  },
  {
   "cell_type": "code",
   "execution_count": null,
   "metadata": {},
   "outputs": [],
   "source": []
  },
  {
   "cell_type": "code",
   "execution_count": null,
   "metadata": {},
   "outputs": [],
   "source": []
  }
 ],
 "metadata": {
  "kernelspec": {
   "display_name": "Python 3",
   "language": "python",
   "name": "python3"
  },
  "language_info": {
   "codemirror_mode": {
    "name": "ipython",
    "version": 3
   },
   "file_extension": ".py",
   "mimetype": "text/x-python",
   "name": "python",
   "nbconvert_exporter": "python",
   "pygments_lexer": "ipython3",
   "version": "3.7.4"
  }
 },
 "nbformat": 4,
 "nbformat_minor": 4
}
