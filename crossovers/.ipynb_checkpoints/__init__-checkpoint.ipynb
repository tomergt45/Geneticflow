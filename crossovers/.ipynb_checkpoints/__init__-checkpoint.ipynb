{
 "cells": [
  {
   "cell_type": "code",
   "execution_count": 1,
   "metadata": {},
   "outputs": [],
   "source": [
    "import os, sys\n",
    "sys.path.append(os.path.realpath('..'))\n",
    "\n",
    "import tensorflow as tf\n",
    "import numpy as np\n",
    "from tensorflow import keras\n",
    "\n",
    "import utils"
   ]
  },
  {
   "cell_type": "code",
   "execution_count": 38,
   "metadata": {},
   "outputs": [],
   "source": [
    "def get(name):\n",
    "    \"\"\"\n",
    "    Returns a crossover by name, this can be a function or a class name, in cases of a class name then an instance of that class will be returned.\n",
    "    \n",
    "    Parameters\n",
    "    -----------\n",
    "    name: str\n",
    "        The name of the function or class.\n",
    "    \n",
    "    Returns\n",
    "    --------\n",
    "    out: function or instance of `Crossover`.\n",
    "    \"\"\"\n",
    "    import inspect\n",
    "    target = globals()[name]\n",
    "    return target() if inspect.isclass(target) else target"
   ]
  },
  {
   "cell_type": "code",
   "execution_count": 31,
   "metadata": {},
   "outputs": [],
   "source": [
    "class Crossover:\n",
    "    \"\"\"\n",
    "    This is the class from which all crossovers inherit from.\n",
    "    \n",
    "    A crossover is a callable object (much like a function) which takes a list of `Genome` objects as an input and outputs a single `Genome` object.\n",
    "    \n",
    "    The crossover function of the `Crossover` class is defined within the `call` function.\n",
    "    \n",
    "    Users will just instantiate an instance and then treat it as a callable (function).\n",
    "    \"\"\"\n",
    "    def call(self, genomes):\n",
    "        raise Exception('You are trying to invoke the default crossover function of the `Crossover` class, this function is not defined.')\n",
    "    \n",
    "    def __call__(self, genomes):\n",
    "        \"\"\"\n",
    "        This function takes a list of genomes as an input, and returns a single genome which is the \"child\" of the given genomes.\n",
    "        \n",
    "        Parameters\n",
    "        -----------\n",
    "        genomes: list[Genome]\n",
    "            A list of genomes.\n",
    "        \n",
    "        Returns\n",
    "        --------\n",
    "        out: Genome\n",
    "            A child of the given genomes.\n",
    "        \"\"\"\n",
    "        return self.call(genomes)"
   ]
  },
  {
   "cell_type": "code",
   "execution_count": 30,
   "metadata": {},
   "outputs": [],
   "source": [
    "class EvenlyCombine(Crossover):\n",
    "    \"\"\"\n",
    "    This crossover invokes the `utils.evenly_combine` function (found in the utils module), \n",
    "    it would take even slices from each genome props and return a new genome containing props from each of the given genomes.\n",
    "    \n",
    "    For more information, see `utils.evenly_combine`.\n",
    "    \n",
    "    Examples\n",
    "    ---------\n",
    "    >>> g1 = Genome(a=1, b=1, c=1)\n",
    "    >>> g2 = Genome(a=2, b=2, c=2)\n",
    "    >>> EvenlyCombine()([g1, g2])\n",
    "    <Genome fitness=\"0\" a=\"1\" b=\"1\" c=\"2\">\n",
    "    \n",
    "    >>> g1 = Genome(a=1, b=1, c=1)\n",
    "    >>> g2 = Genome(a=2, b=2, c=2)\n",
    "    >>> g3 = Genome(a=3, b=3, c=3)\n",
    "    >>> EvenlyCombine()([g1, g2, g3])\n",
    "    <Genome fitness=\"0\" a=\"1\" b=\"2\" c=\"3\">\n",
    "    \"\"\"\n",
    "    \n",
    "    def __call__(self, genomes):\n",
    "        from genomes import Genome\n",
    "        new_props = utils.evenly_combine(genomes, select=lambda x: x.props)\n",
    "        return Genome(**new_props)"
   ]
  },
  {
   "cell_type": "code",
   "execution_count": 40,
   "metadata": {},
   "outputs": [],
   "source": [
    "# def defaultNN(genomes):\n",
    "#     \"\"\"\n",
    "#     Default crossover function for the NEAT algorithm. Splits the given models evenly and prdocues a new neural network with layers from all the given genomes.\n",
    "\n",
    "#     Parameters\n",
    "#     -----------\n",
    "#     genomes: tuple\n",
    "#         A tuple containing 2 or more neural network models.\n",
    "\n",
    "#     Returns\n",
    "#     --------\n",
    "#     out: keras.Model\n",
    "#     \"\"\"\n",
    "#     max_layers_count = max(len(genome.layers)-2 for genome in genomes)\n",
    "#     layers_per_genome = int(np.ceil(max_layers_count / len(models)))\n",
    "\n",
    "#     layers = [genomes[0].layers[0]]\n",
    "\n",
    "#     for i, genome in enumerate(genomes):\n",
    "#         start_layer_index = layers_per_genome*i\n",
    "#         end_layer_index = start_layer_index + layers_per_genome\n",
    "\n",
    "#         layers.extend(genome.layers[1:-1][start_layer_index:end_layer_index])\n",
    "\n",
    "#     layers.append(genomes[-1].layers[-1])\n",
    "#     return utils.connect_layers(layers)"
   ]
  },
  {
   "cell_type": "code",
   "execution_count": null,
   "metadata": {},
   "outputs": [],
   "source": []
  },
  {
   "cell_type": "code",
   "execution_count": null,
   "metadata": {},
   "outputs": [],
   "source": []
  }
 ],
 "metadata": {
  "kernelspec": {
   "display_name": "Python 3",
   "language": "python",
   "name": "python3"
  },
  "language_info": {
   "codemirror_mode": {
    "name": "ipython",
    "version": 3
   },
   "file_extension": ".py",
   "mimetype": "text/x-python",
   "name": "python",
   "nbconvert_exporter": "python",
   "pygments_lexer": "ipython3",
   "version": "3.7.4"
  }
 },
 "nbformat": 4,
 "nbformat_minor": 4
}
