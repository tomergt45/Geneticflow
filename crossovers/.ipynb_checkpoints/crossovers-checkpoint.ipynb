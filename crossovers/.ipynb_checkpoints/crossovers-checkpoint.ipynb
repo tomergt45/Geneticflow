{
 "cells": [
  {
   "cell_type": "code",
   "execution_count": 21,
   "metadata": {},
   "outputs": [],
   "source": [
    "import os\n",
    "import sys\n",
    "sys.path.append(os.path.realpath('..'))\n",
    "\n",
    "import tensorflow as tf\n",
    "import numpy as np\n",
    "from tensorflow import keras\n",
    "\n",
    "from utils import utils"
   ]
  },
  {
   "cell_type": "code",
   "execution_count": 1,
   "metadata": {},
   "outputs": [],
   "source": [
    "def default(models):\n",
    "    \"\"\"\n",
    "    Default crossover function. Produces a new neural network from the given models.\n",
    "\n",
    "    Parameters\n",
    "    -----------\n",
    "    models: tuple\n",
    "        A tuple containing 2 neural network models.\n",
    "\n",
    "    Returns\n",
    "    --------\n",
    "    out: keras.Model\n",
    "    \"\"\"\n",
    "    max_layers_count = max(len(model.layers)-2 for model in models)\n",
    "    layers_per_model = int(np.ceil(max_layers_count / len(models)))\n",
    "\n",
    "    layers = [models[0].layers[0]]\n",
    "\n",
    "    for i, model in enumerate(models):\n",
    "        start_layer_index = layers_per_model*i\n",
    "        end_layer_index = start_layer_index + layers_per_model\n",
    "\n",
    "        layers.extend(model.layers[1:-1][start_layer_index:end_layer_index])\n",
    "\n",
    "    layers.append(models[-1].layers[-1])\n",
    "    return utils.connect_layers(layers)"
   ]
  },
  {
   "cell_type": "code",
   "execution_count": null,
   "metadata": {},
   "outputs": [],
   "source": []
  }
 ],
 "metadata": {
  "kernelspec": {
   "display_name": "Python 3",
   "language": "python",
   "name": "python3"
  },
  "language_info": {
   "codemirror_mode": {
    "name": "ipython",
    "version": 3
   },
   "file_extension": ".py",
   "mimetype": "text/x-python",
   "name": "python",
   "nbconvert_exporter": "python",
   "pygments_lexer": "ipython3",
   "version": "3.7.4"
  }
 },
 "nbformat": 4,
 "nbformat_minor": 4
}
