{
 "cells": [
  {
   "cell_type": "code",
   "execution_count": 42,
   "metadata": {},
   "outputs": [],
   "source": [
    "import tensorflow as tf\n",
    "import numpy as np"
   ]
  },
  {
   "cell_type": "code",
   "execution_count": 2,
   "metadata": {},
   "outputs": [],
   "source": [
    "def get(name):\n",
    "    return globals()[name]"
   ]
  },
  {
   "cell_type": "code",
   "execution_count": 3,
   "metadata": {},
   "outputs": [],
   "source": [
    "def top(genomes, parents=2):\n",
    "    \"\"\"\n",
    "    Selection of the top genomes from the given genome pool, the top genomes are determined by their fitness score.\n",
    "    \n",
    "    Parameters\n",
    "    -----------\n",
    "    genomes: list of Genome\n",
    "        The genomes to select from.\n",
    "    parents: int, optional\n",
    "        The number of parents to select.\n",
    "    \n",
    "    Returns\n",
    "    --------\n",
    "    out: list of Genome\n",
    "    \"\"\"\n",
    "    return sorted(genomes, key=lambda g: g.fitness)[-parents:]"
   ]
  }
 ],
 "metadata": {
  "kernelspec": {
   "display_name": "Python 3",
   "language": "python",
   "name": "python3"
  },
  "language_info": {
   "codemirror_mode": {
    "name": "ipython",
    "version": 3
   },
   "file_extension": ".py",
   "mimetype": "text/x-python",
   "name": "python",
   "nbconvert_exporter": "python",
   "pygments_lexer": "ipython3",
   "version": "3.7.4"
  }
 },
 "nbformat": 4,
 "nbformat_minor": 4
}
