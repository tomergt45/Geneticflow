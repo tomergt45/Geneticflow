{
 "cells": [
  {
   "cell_type": "code",
   "execution_count": 42,
   "metadata": {},
   "outputs": [],
   "source": [
    "import tensorflow as tf\n",
    "import numpy as np"
   ]
  },
  {
   "cell_type": "code",
   "execution_count": 10,
   "metadata": {},
   "outputs": [],
   "source": [
    "def get(name):\n",
    "    \"\"\"\n",
    "    Returns a selection by name, this can be a function or a class name, in cases of a class name then an instance of that class will be returned.\n",
    "    \n",
    "    Parameters\n",
    "    -----------\n",
    "    name: str\n",
    "        The name of the function or class.\n",
    "    \n",
    "    Returns\n",
    "    --------\n",
    "    out: function or instance of `Selection`.\n",
    "    \"\"\"\n",
    "    import inspect\n",
    "    target = globals()[name]\n",
    "    return target() if inspect.isclass(target) else target"
   ]
  },
  {
   "cell_type": "code",
   "execution_count": 3,
   "metadata": {},
   "outputs": [],
   "source": [
    "class Selection:\n",
    "    \"\"\"    \n",
    "    This is the class from which all selections inherit from.\n",
    "    \n",
    "    A selection is a callable object (much like a function) which takes a list of `Genome` objects as an input and returns a filtered list of `Genome`.\n",
    "    \n",
    "    The selection function of the `Selection` class is defined within the `call` function.\n",
    "    \n",
    "    Users will just instantiate an instance and then treat it as a callable (function).\n",
    "    \n",
    "    Selection is the stage of a genetic algorithm in which individual genomes are chosen from a population for later breeding (using the crossover operator).\n",
    "    \"\"\"\n",
    "    def call(self, genomes):\n",
    "        raise Exception('You are trying to invoke the default selection function of the `Selection` class, this function is not defined.')\n",
    "    \n",
    "    def __call__(self, genomes):\n",
    "        \"\"\"\n",
    "        This function takes a list of genomes as an input, and returns a filtered list of `Genome`.\n",
    "        \n",
    "        Parameters\n",
    "        -----------\n",
    "        genomes: list[Genome]\n",
    "            A list of genomes.\n",
    "        \n",
    "        Returns\n",
    "        --------\n",
    "        out: list[Genome]\n",
    "            A filtered list of genomes.\n",
    "        \"\"\"\n",
    "        return self.call(genomes)"
   ]
  },
  {
   "cell_type": "code",
   "execution_count": 11,
   "metadata": {},
   "outputs": [],
   "source": [
    "class Top(Selection):\n",
    "    \"\"\"\n",
    "    Selection of the top genomes from the given genome pool, the top genomes are determined by their fitness score.\n",
    "    \"\"\"\n",
    "    def __init__(self, parents=2):\n",
    "        \"\"\"\n",
    "        Parameters\n",
    "        -----------\n",
    "        parents: int\n",
    "            The number of parents to select.\n",
    "        \"\"\"\n",
    "        self.parents = 2\n",
    "        \n",
    "    def call(self, genomes):\n",
    "        return sorted(genomes, key=lambda g: g.fitness)[-self.parents:]"
   ]
  }
 ],
 "metadata": {
  "kernelspec": {
   "display_name": "Python 3",
   "language": "python",
   "name": "python3"
  },
  "language_info": {
   "codemirror_mode": {
    "name": "ipython",
    "version": 3
   },
   "file_extension": ".py",
   "mimetype": "text/x-python",
   "name": "python",
   "nbconvert_exporter": "python",
   "pygments_lexer": "ipython3",
   "version": "3.7.4"
  }
 },
 "nbformat": 4,
 "nbformat_minor": 4
}
