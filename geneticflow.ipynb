{
 "cells": [
  {
   "cell_type": "code",
   "execution_count": 1,
   "metadata": {},
   "outputs": [],
   "source": [
    "import tensorflow as tf\n",
    "import numpy as np\n",
    "from tensorflow import keras\n",
    "\n",
    "import utils\n",
    "import tfutils\n",
    "import crossovers\n",
    "import genomes\n",
    "import algorithms\n",
    "import selections\n",
    "import mutations\n",
    "\n",
    "from genomes import Genome # GenomeModel, GenomeLayer, \n",
    "from algorithms import Base, Neat"
   ]
  },
  {
   "cell_type": "code",
   "execution_count": 2,
   "metadata": {},
   "outputs": [],
   "source": [
    "# neat = Neat()\n",
    "# neat.compile(inputs=4, hidden=2, outputs=4)\n",
    "# history = neat.fit(func, population=100, generations=50)\n",
    "# winner = neat.winner"
   ]
  },
  {
   "cell_type": "code",
   "execution_count": 10,
   "metadata": {},
   "outputs": [
    {
     "name": "stdout",
     "output_type": "stream",
     "text": [
      "Gen 0 best genome: <Genome fitness=\"2\" a=\"1\">\n",
      "Gen 1 best genome: <Genome fitness=\"4\" a=\"1\">\n",
      "Gen 2 best genome: <Genome fitness=\"6\" a=\"1\">\n"
     ]
    }
   ],
   "source": [
    "base_genome = Genome(a=1)\n",
    "\n",
    "def fit_func(genome):\n",
    "    genome.fitness += 2\n",
    "    return genome\n",
    "\n",
    "def mutation(genome):\n",
    "    return genome\n",
    "\n",
    "def crossover(genomes):\n",
    "    return genomes[0]\n",
    "\n",
    "def selection(genomes):\n",
    "    return genomes[:3]\n",
    "\n",
    "base = Base()\n",
    "base.compile_base(base_genome)\n",
    "history = base.fit(fit_func, crossover=crossover, mutation=mutation, selection=selection, verbose=1, fitness_threshold=5, fit_mode='single')"
   ]
  },
  {
   "cell_type": "code",
   "execution_count": null,
   "metadata": {},
   "outputs": [],
   "source": []
  }
 ],
 "metadata": {
  "kernelspec": {
   "display_name": "Python 3",
   "language": "python",
   "name": "python3"
  },
  "language_info": {
   "codemirror_mode": {
    "name": "ipython",
    "version": 3
   },
   "file_extension": ".py",
   "mimetype": "text/x-python",
   "name": "python",
   "nbconvert_exporter": "python",
   "pygments_lexer": "ipython3",
   "version": "3.7.4"
  }
 },
 "nbformat": 4,
 "nbformat_minor": 4
}
