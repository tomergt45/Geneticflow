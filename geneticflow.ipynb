{
 "cells": [
  {
   "cell_type": "code",
   "execution_count": 1,
   "metadata": {},
   "outputs": [],
   "source": [
    "import tensorflow as tf\n",
    "import numpy as np\n",
    "from tensorflow import keras\n",
    "\n",
    "from utils import utils\n",
    "from crossovers import crossovers\n",
    "from mutations import mutations"
   ]
  },
  {
   "cell_type": "code",
   "execution_count": 2,
   "metadata": {},
   "outputs": [],
   "source": [
    "class Neat:\n",
    "    def __init__(self):\n",
    "        self.compiled = False\n",
    "    \n",
    "    def compile(self, inputs, outputs, hidden=0, activations='relu', node_mutate_rate=0.01, layer_mutate_rate=0.01, bias_mutate_rate=0.7):\n",
    "        \"\"\"\n",
    "        Compiles the neat object with network parameters.\n",
    "        \n",
    "        Parameters\n",
    "        -----------\n",
    "        inputs: int\n",
    "            The number of nodes in the first layer.\n",
    "        outputs: int\n",
    "            The number of nodes in the last layer.\n",
    "        hidden: int or list, optional\n",
    "            The number of initial hidden layers, this can also be a list where each value is the number of nodes in each layer (the default is 1).\n",
    "        activations: str or list, optional\n",
    "            The activation functions for all the nodes in the network, this can also be a list where each value is an activation function for each layer (not including the input layer!).\n",
    "        node_mutate_rate: int, optional\n",
    "            The chance of a new node being added for each layer.\n",
    "        layer_mutate_rate: int, optional\n",
    "            The chance of a new layer being added.\n",
    "        bias_mutate_rate: int, optional\n",
    "            The chance of changing the bias for each layer.\n",
    "            \n",
    "        Returns\n",
    "        --------\n",
    "        out: None\n",
    "        \"\"\"\n",
    "        self.inputs = inputs\n",
    "        self.outputs = outputs\n",
    "        self.hidden = hidden\n",
    "        self.activations = activations\n",
    "        self.node_mutate_rate = node_mutate_rate\n",
    "        self.layer_mutate_rate = layer_mutate_rate\n",
    "        self.bias_mutate_rate = bias_mutate_rate\n",
    "        self.compiled = True\n",
    "        \n",
    "    def fit(self, fit_func, population=100, generations=50, crossover=None, mutation=None):\n",
    "        if not self.compiled:\n",
    "            raise Exception('Neat object is not compiled, you must compile the object before training (see \".compile\").')"
   ]
  },
  {
   "cell_type": "code",
   "execution_count": 3,
   "metadata": {},
   "outputs": [],
   "source": [
    "neat = Neat()\n",
    "neat.compile(inputs=4, outputs=4)"
   ]
  },
  {
   "cell_type": "code",
   "execution_count": 4,
   "metadata": {},
   "outputs": [],
   "source": [
    "# history = neat.fit(func, population=100, generations=50)\n",
    "# winner = neat.winner"
   ]
  },
  {
   "cell_type": "code",
   "execution_count": null,
   "metadata": {},
   "outputs": [],
   "source": []
  },
  {
   "cell_type": "code",
   "execution_count": 5,
   "metadata": {},
   "outputs": [],
   "source": [
    "node_add_rate=0.3\n",
    "node_remove_rate=0.1\n",
    "layer_add_rate=0.01\n",
    "layer_remove_rate=0.01\n",
    "weights_change_rate=0.2\n",
    "biases_change_rate=0.7"
   ]
  },
  {
   "cell_type": "code",
   "execution_count": 6,
   "metadata": {},
   "outputs": [
    {
     "name": "stdout",
     "output_type": "stream",
     "text": [
      "[[ True  True  True  True]\n",
      " [ True  True  True  True]]\n"
     ]
    },
    {
     "data": {
      "text/plain": [
       "array([[-0.78278089,  0.08908868, -0.83619165, -0.84569263],\n",
       "       [-0.24944425,  0.36628175,  0.04744887,  0.02483225]])"
      ]
     },
     "execution_count": 6,
     "metadata": {},
     "output_type": "execute_result"
    }
   ],
   "source": [
    "model = utils.generate_network(4, [2], 4)\n",
    "layer1 = model.layers[1]\n",
    "layer2 = model.layers[2]\n",
    "\n",
    "utils.connect_weights(layer1, layer2)"
   ]
  },
  {
   "cell_type": "code",
   "execution_count": null,
   "metadata": {},
   "outputs": [],
   "source": []
  },
  {
   "cell_type": "code",
   "execution_count": null,
   "metadata": {},
   "outputs": [],
   "source": []
  }
 ],
 "metadata": {
  "kernelspec": {
   "display_name": "Python 3",
   "language": "python",
   "name": "python3"
  },
  "language_info": {
   "codemirror_mode": {
    "name": "ipython",
    "version": 3
   },
   "file_extension": ".py",
   "mimetype": "text/x-python",
   "name": "python",
   "nbconvert_exporter": "python",
   "pygments_lexer": "ipython3",
   "version": "3.7.4"
  }
 },
 "nbformat": 4,
 "nbformat_minor": 4
}
