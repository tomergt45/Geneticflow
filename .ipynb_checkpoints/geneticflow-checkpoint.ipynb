{
 "cells": [
  {
   "cell_type": "code",
   "execution_count": 33,
   "metadata": {},
   "outputs": [],
   "source": [
    "import tensorflow as tf\n",
    "import numpy as np\n",
    "from tensorflow import keras\n",
    "\n",
    "import utils\n",
    "import tfutils\n",
    "import crossovers\n",
    "import genomes\n",
    "\n",
    "from genomes import GenomeModel, GenomeLayer"
   ]
  },
  {
   "cell_type": "code",
   "execution_count": null,
   "metadata": {},
   "outputs": [],
   "source": []
  },
  {
   "cell_type": "code",
   "execution_count": 32,
   "metadata": {},
   "outputs": [],
   "source": [
    "class Neat:\n",
    "    def __init__(self):\n",
    "        self.compiled = False\n",
    "    \n",
    "    def compile(self, inputs, hidden, outputs, activation='relu', parents=2, node_add_rate=0.1, node_remove_rate=0.1, layer_add_rate=0.01, layer_remove_rate=0.01, weights_change_rate=0.2, biases_change_rate=0.7):\n",
    "        \"\"\"\n",
    "        Compiles the neat object with parameters for the base genome and the evolution process.\n",
    "        Calling this function would create a base genome from the given network parameters.\n",
    "        \n",
    "        Parameters\n",
    "        -----------\n",
    "        inputs: int, optional\n",
    "            The number of nodes in the input layer of the base genome.\n",
    "        hidden: int, optional\n",
    "            The number of initial hidden layers in the base genome, each layer starts with a single node.\n",
    "        outputs: int, optional\n",
    "            The number of nodes in the output layer of the base genome.\n",
    "        activation: str, optional\n",
    "            The activation function for all of the initial layers of the base genome.\n",
    "        parents: int, optional\n",
    "            The maximum number of parents required to create a child, the default is 2, meaning that a child would be created from the 2 fittest genomes.\n",
    "        node_mutate_rate: int, optional\n",
    "            The chance of a new node being added for each layer.\n",
    "        layer_mutate_rate: int, optional\n",
    "            The chance of a new layer being added.\n",
    "        bias_mutate_rate: int, optional\n",
    "            The chance of changing the bias for each layer.\n",
    "            \n",
    "        Returns\n",
    "        --------\n",
    "        out: None\n",
    "        \"\"\"\n",
    "        base_genome = GenomeModel.generate_base(inputs, hidden, outputs, activation)\n",
    "        self.compile_base(base_genome, parents, node_add_rate, node_remove_rate, layer_add_rate, layer_remove_rate, weights_change_rate, biases_change_rate)\n",
    "        \n",
    "    def compile_base(self, base_genome, parents=2, node_add_rate=0.1, node_remove_rate=0.1, layer_add_rate=0.01, layer_remove_rate=0.01, weights_change_rate=0.2, biases_change_rate=0.7):\n",
    "        \"\"\"\n",
    "        Compiles the neat object with a specific base genome and evolution parameters.\n",
    "        \n",
    "        Parameters\n",
    "        -----------\n",
    "        base_genome: GenomeModel\n",
    "            The initial genome which is used as a base for the first population.\n",
    "        parents: int, optional\n",
    "            The maximum number of parents required to create a child, the default is 2, meaning that a child would be created from the 2 fittest genomes.\n",
    "        node_mutate_rate: int, optional\n",
    "            The chance of a new node being added for each layer.\n",
    "        layer_mutate_rate: int, optional\n",
    "            The chance of a new layer being added.\n",
    "        bias_mutate_rate: int, optional\n",
    "            The chance of changing the bias for each layer.\n",
    "            \n",
    "        Returns\n",
    "        --------\n",
    "        out: None\n",
    "        \"\"\"\n",
    "        self.base_genome = base_genome\n",
    "        self.parents = parents\n",
    "        self.node_add_rate = node_add_rate\n",
    "        self.node_remove_rate = node_remove_rate\n",
    "        self.layer_add_rate = layer_add_rate\n",
    "        self.layer_remove_rate = layer_remove_rate\n",
    "        self.weights_change_rate = weights_change_rate\n",
    "        self.biases_change_rate = biases_change_rate\n",
    "        self.compiled = True\n",
    "        \n",
    "    def fit(self, fit_func, population=100, generations=50, crossover=None, mutation=None, fit_mode='multi'):\n",
    "        base_genome = self.base_genome\n",
    "        \n",
    "        for generation in generations:\n",
    "            population = GenomeModel.generate_population(base_genome, mutation=mutation)\n",
    "            \n",
    "            if fit_mode == 'single':\n",
    "                population = [fit_func(genome) for genome in population]\n",
    "            elif fit_mode == 'multi':\n",
    "                population = fit_func(genome)\n",
    "            \n",
    "            population.sort(key=lambda g: g.fitness)\n",
    "            parents = population[-self.parents:]\n",
    "            \n",
    "            base_genome = crossover(parents)\n",
    "        \n",
    "        return base_genome"
   ]
  },
  {
   "cell_type": "code",
   "execution_count": 31,
   "metadata": {},
   "outputs": [
    {
     "name": "stdout",
     "output_type": "stream",
     "text": [
      "False\n"
     ]
    }
   ],
   "source": [
    "neat = Neat()\n",
    "neat.compile(inputs=4, hidden=2, outputs=4)"
   ]
  },
  {
   "cell_type": "code",
   "execution_count": 4,
   "metadata": {},
   "outputs": [],
   "source": [
    "# history = neat.fit(func, population=100, generations=50)\n",
    "# winner = neat.winner"
   ]
  },
  {
   "cell_type": "code",
   "execution_count": null,
   "metadata": {},
   "outputs": [],
   "source": []
  }
 ],
 "metadata": {
  "kernelspec": {
   "display_name": "Python 3",
   "language": "python",
   "name": "python3"
  },
  "language_info": {
   "codemirror_mode": {
    "name": "ipython",
    "version": 3
   },
   "file_extension": ".py",
   "mimetype": "text/x-python",
   "name": "python",
   "nbconvert_exporter": "python",
   "pygments_lexer": "ipython3",
   "version": "3.7.4"
  }
 },
 "nbformat": 4,
 "nbformat_minor": 4
}
