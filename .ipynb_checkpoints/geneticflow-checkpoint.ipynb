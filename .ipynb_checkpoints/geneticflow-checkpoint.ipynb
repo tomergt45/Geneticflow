{
 "cells": [
  {
   "cell_type": "code",
   "execution_count": 1,
   "metadata": {},
   "outputs": [],
   "source": [
    "import tensorflow as tf\n",
    "import numpy as np\n",
    "from tensorflow import keras\n",
    "\n",
    "import utils\n",
    "import tfutils\n",
    "import crossovers\n",
    "import genomes\n",
    "import algorithms\n",
    "import selections\n",
    "\n",
    "from genomes import GenomeModel, GenomeLayer, Genome\n",
    "from algorithms import Base, Neat"
   ]
  },
  {
   "cell_type": "code",
   "execution_count": 2,
   "metadata": {},
   "outputs": [],
   "source": [
    "# neat = Neat()\n",
    "# neat.compile(inputs=4, hidden=2, outputs=4)\n",
    "# history = neat.fit(func, population=100, generations=50)\n",
    "# winner = neat.winner"
   ]
  },
  {
   "cell_type": "code",
   "execution_count": null,
   "metadata": {},
   "outputs": [],
   "source": []
  },
  {
   "cell_type": "code",
   "execution_count": 22,
   "metadata": {
    "scrolled": true
   },
   "outputs": [
    {
     "name": "stdout",
     "output_type": "stream",
     "text": [
      "Gen 0 highest fitness: 19\n",
      "Gen 1 highest fitness: 26\n",
      "Gen 2 highest fitness: 40\n",
      "Gen 3 highest fitness: 41\n",
      "Gen 4 highest fitness: 41\n",
      "Gen 5 highest fitness: 43\n",
      "Gen 6 highest fitness: 44\n",
      "Gen 7 highest fitness: 53\n",
      "Gen 8 highest fitness: 53\n",
      "Gen 9 highest fitness: 53\n",
      "Gen 10 highest fitness: 53\n",
      "Gen 11 highest fitness: 53\n",
      "Gen 12 highest fitness: 53\n",
      "Gen 13 highest fitness: 53\n",
      "Gen 14 highest fitness: 53\n",
      "Gen 15 highest fitness: 53\n",
      "Gen 16 highest fitness: 53\n",
      "Gen 17 highest fitness: 53\n",
      "Gen 18 highest fitness: 53\n",
      "Gen 19 highest fitness: 53\n",
      "Gen 20 highest fitness: 53\n",
      "Gen 21 highest fitness: 53\n",
      "Gen 22 highest fitness: 53\n",
      "Gen 23 highest fitness: 53\n",
      "Gen 24 highest fitness: 53\n",
      "Gen 25 highest fitness: 53\n",
      "Gen 26 highest fitness: 53\n",
      "Gen 27 highest fitness: 53\n",
      "Gen 28 highest fitness: 53\n",
      "Gen 29 highest fitness: 53\n",
      "Gen 30 highest fitness: 55\n",
      "Gen 31 highest fitness: 58\n",
      "Gen 32 highest fitness: 58\n",
      "Gen 33 highest fitness: 58\n",
      "Gen 34 highest fitness: 58\n",
      "Gen 35 highest fitness: 59\n",
      "Gen 36 highest fitness: 59\n",
      "Gen 37 highest fitness: 60\n",
      "Gen 38 highest fitness: 60\n",
      "Gen 39 highest fitness: 60\n",
      "Gen 40 highest fitness: 60\n",
      "Gen 41 highest fitness: 60\n",
      "Gen 42 highest fitness: 60\n",
      "Gen 43 highest fitness: 60\n",
      "Gen 44 highest fitness: 60\n",
      "Gen 45 highest fitness: 60\n",
      "Gen 46 highest fitness: 60\n",
      "Gen 47 highest fitness: 60\n",
      "Gen 48 highest fitness: 60\n",
      "Gen 49 highest fitness: 60\n",
      "Gen 50 highest fitness: 60\n",
      "Gen 51 highest fitness: 60\n",
      "Gen 52 highest fitness: 60\n",
      "Gen 53 highest fitness: 60\n",
      "Gen 54 highest fitness: 60\n",
      "Gen 55 highest fitness: 60\n",
      "Gen 56 highest fitness: 60\n",
      "Gen 57 highest fitness: 60\n",
      "Gen 58 highest fitness: 60\n",
      "Gen 59 highest fitness: 60\n",
      "Gen 60 highest fitness: 60\n",
      "Gen 61 highest fitness: 60\n",
      "Gen 62 highest fitness: 60\n",
      "Gen 63 highest fitness: 60\n",
      "Gen 64 highest fitness: 60\n",
      "Gen 65 highest fitness: 60\n",
      "Gen 66 highest fitness: 60\n",
      "Gen 67 highest fitness: 60\n",
      "Gen 68 highest fitness: 60\n",
      "Gen 69 highest fitness: 60\n",
      "Gen 70 highest fitness: 60\n",
      "Gen 71 highest fitness: 60\n",
      "Gen 72 highest fitness: 60\n",
      "Gen 73 highest fitness: 60\n",
      "Gen 74 highest fitness: 60\n",
      "Gen 75 highest fitness: 60\n",
      "Gen 76 highest fitness: 60\n",
      "Gen 77 highest fitness: 60\n",
      "Gen 78 highest fitness: 60\n",
      "Gen 79 highest fitness: 60\n",
      "Gen 80 highest fitness: 60\n",
      "Gen 81 highest fitness: 60\n",
      "Gen 82 highest fitness: 60\n",
      "Gen 83 highest fitness: 60\n",
      "Gen 84 highest fitness: 60\n",
      "Gen 85 highest fitness: 60\n",
      "Gen 86 highest fitness: 60\n",
      "Gen 87 highest fitness: 60\n",
      "Gen 88 highest fitness: 60\n",
      "Gen 89 highest fitness: 60\n",
      "Gen 90 highest fitness: 60\n",
      "Gen 91 highest fitness: 60\n",
      "Gen 92 highest fitness: 60\n",
      "Gen 93 highest fitness: 60\n",
      "Gen 94 highest fitness: 60\n",
      "Gen 95 highest fitness: 60\n",
      "Gen 96 highest fitness: 60\n",
      "Gen 97 highest fitness: 60\n",
      "Gen 98 highest fitness: 60\n",
      "Gen 99 highest fitness: 60\n"
     ]
    },
    {
     "data": {
      "text/plain": [
       "<matplotlib.image.AxesImage at 0x2a1fcb0e608>"
      ]
     },
     "execution_count": 22,
     "metadata": {},
     "output_type": "execute_result"
    },
    {
     "data": {
      "image/png": "[encoded data removed]",
      "text/plain": [
       "<Figure size 432x288 with 1 Axes>"
      ]
     },
     "metadata": {
      "needs_background": "light"
     },
     "output_type": "display_data"
    }
   ],
   "source": [
    "import matplotlib.pyplot as plt\n",
    "\n",
    "def fit_func(genome):\n",
    "    genome.fitness = genome.img.min()\n",
    "    return genome\n",
    "\n",
    "def mutation(genome):\n",
    "    for i in range(10):\n",
    "        if utils.chance(1/3):\n",
    "            genome.img[i] = np.random.randint(0, 255, 10)\n",
    "    return genome\n",
    "\n",
    "def crossover(genomes):\n",
    "    new_img = np.concatenate((genomes[0].img[:5], genomes[1].img[5:10]))\n",
    "    return Genome(img=new_img)\n",
    "    \n",
    "base_genome = Genome(img=np.random.randint(0, 255, (10, 10)))\n",
    "\n",
    "base = Base()\n",
    "base.compile_base(base_genome)\n",
    "history = base.fit(fit_func, population=1000, generations=100, crossover=crossover, mutation=mutation, fit_mode='single')\n",
    "plt.imshow(base.winner.img)"
   ]
  },
  {
   "cell_type": "code",
   "execution_count": 17,
   "metadata": {},
   "outputs": [
    {
     "data": {
      "text/plain": [
       "array([[243, 175, 178, 226, 250, 226,  95, 225, 185,  56],\n",
       "       [206, 134, 240, 144, 218, 235, 165, 242, 241, 217],\n",
       "       [207, 253, 175, 252, 235, 220, 148, 213, 235, 174],\n",
       "       [115, 233, 246, 220, 208, 125,  91, 238, 219, 206],\n",
       "       [214, 148, 205, 252, 254,  64, 246, 123, 254, 233],\n",
       "       [241, 218, 210,  31, 204, 217, 229, 214, 163, 221],\n",
       "       [ 87, 253, 254, 197, 239, 217, 123, 197, 244,  60],\n",
       "       [233, 153, 209, 190, 219, 234, 173, 252, 243, 111],\n",
       "       [163, 227,  54, 210,  96, 239, 253, 238, 219, 253],\n",
       "       [185, 101, 250, 237, 160, 228, 231, 110, 249, 152]])"
      ]
     },
     "execution_count": 17,
     "metadata": {},
     "output_type": "execute_result"
    }
   ],
   "source": []
  }
 ],
 "metadata": {
  "kernelspec": {
   "display_name": "Python 3",
   "language": "python",
   "name": "python3"
  },
  "language_info": {
   "codemirror_mode": {
    "name": "ipython",
    "version": 3
   },
   "file_extension": ".py",
   "mimetype": "text/x-python",
   "name": "python",
   "nbconvert_exporter": "python",
   "pygments_lexer": "ipython3",
   "version": "3.7.4"
  }
 },
 "nbformat": 4,
 "nbformat_minor": 4
}
