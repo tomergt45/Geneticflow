{
 "cells": [
  {
   "cell_type": "code",
   "execution_count": 1,
   "metadata": {},
   "outputs": [],
   "source": [
    "import tensorflow as tf\n",
    "import numpy as np\n",
    "from tensorflow import keras\n",
    "\n",
    "import utils\n",
    "import tfutils\n",
    "import crossovers\n",
    "import genomes\n",
    "import algorithms\n",
    "import selections\n",
    "import mutations\n",
    "\n",
    "from genomes import Genome # GenomeModel, GenomeLayer, \n",
    "from algorithms import Base, Neat"
   ]
  },
  {
   "cell_type": "code",
   "execution_count": 2,
   "metadata": {},
   "outputs": [],
   "source": [
    "# neat = Neat()\n",
    "# neat.compile(inputs=4, hidden=2, outputs=4)\n",
    "# history = neat.fit(func, population=100, generations=50)\n",
    "# winner = neat.winner"
   ]
  },
  {
   "cell_type": "code",
   "execution_count": 7,
   "metadata": {},
   "outputs": [
    {
     "name": "stdout",
     "output_type": "stream",
     "text": [
      "Gen 0 best genome: <Genome fitness=\"2\" a=\"2\">\n",
      "Gen 1 best genome: <Genome fitness=\"4\" a=\"4\">\n",
      "Gen 2 best genome: <Genome fitness=\"8\" a=\"8\">\n",
      "Gen 3 best genome: <Genome fitness=\"16\" a=\"16\">\n",
      "Gen 4 best genome: <Genome fitness=\"32\" a=\"32\">\n",
      "Gen 5 best genome: <Genome fitness=\"61\" a=\"61\">\n",
      "Gen 6 best genome: <Genome fitness=\"120\" a=\"120\">\n",
      "Gen 7 best genome: <Genome fitness=\"236\" a=\"236\">\n",
      "Gen 8 best genome: <Genome fitness=\"460\" a=\"460\">\n",
      "Gen 9 best genome: <Genome fitness=\"902\" a=\"902\">\n",
      "Gen 10 best genome: <Genome fitness=\"1753\" a=\"1753\">\n",
      "Gen 11 best genome: <Genome fitness=\"3415\" a=\"3415\">\n",
      "Gen 12 best genome: <Genome fitness=\"6757\" a=\"6757\">\n",
      "Gen 13 best genome: <Genome fitness=\"13228\" a=\"13228\">\n",
      "Gen 14 best genome: <Genome fitness=\"26140\" a=\"26140\">\n",
      "Gen 15 best genome: <Genome fitness=\"51615\" a=\"51615\">\n",
      "Gen 16 best genome: <Genome fitness=\"100572\" a=\"100572\">\n",
      "Gen 17 best genome: <Genome fitness=\"194579\" a=\"194579\">\n",
      "Gen 18 best genome: <Genome fitness=\"375153\" a=\"375153\">\n",
      "Gen 19 best genome: <Genome fitness=\"747059\" a=\"747059\">\n",
      "Gen 20 best genome: <Genome fitness=\"1481193\" a=\"1481193\">\n",
      "Gen 21 best genome: <Genome fitness=\"2932166\" a=\"2932166\">\n",
      "Gen 22 best genome: <Genome fitness=\"5704610\" a=\"5704610\">\n",
      "Gen 23 best genome: <Genome fitness=\"11324350\" a=\"11324350\">\n",
      "Gen 24 best genome: <Genome fitness=\"21678166\" a=\"21678166\">\n",
      "Gen 25 best genome: <Genome fitness=\"42985198\" a=\"42985198\">\n",
      "Gen 26 best genome: <Genome fitness=\"84796693\" a=\"84796693\">\n",
      "Gen 27 best genome: <Genome fitness=\"167755451\" a=\"167755451\">\n",
      "Gen 28 best genome: <Genome fitness=\"333958624\" a=\"333958624\">\n",
      "Gen 29 best genome: <Genome fitness=\"648118422\" a=\"648118422\">\n",
      "Gen 30 best genome: <Genome fitness=\"1226277833\" a=\"1226277833\">\n"
     ]
    },
    {
     "ename": "ValueError",
     "evalue": "high is out of bounds for int32",
     "output_type": "error",
     "traceback": [
      "\u001b[1;31m---------------------------------------------------------------------------\u001b[0m",
      "\u001b[1;31mValueError\u001b[0m                                Traceback (most recent call last)",
      "\u001b[1;32m<ipython-input-7-1451ed1d2fac>\u001b[0m in \u001b[0;36m<module>\u001b[1;34m\u001b[0m\n\u001b[0;32m      7\u001b[0m \u001b[0mbase\u001b[0m \u001b[1;33m=\u001b[0m \u001b[0mBase\u001b[0m\u001b[1;33m(\u001b[0m\u001b[1;33m)\u001b[0m\u001b[1;33m\u001b[0m\u001b[1;33m\u001b[0m\u001b[0m\n\u001b[0;32m      8\u001b[0m \u001b[0mbase\u001b[0m\u001b[1;33m.\u001b[0m\u001b[0mcompile_base\u001b[0m\u001b[1;33m(\u001b[0m\u001b[0mbase_genome\u001b[0m\u001b[1;33m)\u001b[0m\u001b[1;33m\u001b[0m\u001b[1;33m\u001b[0m\u001b[0m\n\u001b[1;32m----> 9\u001b[1;33m \u001b[0mhistory\u001b[0m \u001b[1;33m=\u001b[0m \u001b[0mbase\u001b[0m\u001b[1;33m.\u001b[0m\u001b[0mfit\u001b[0m\u001b[1;33m(\u001b[0m\u001b[0mfit_func\u001b[0m\u001b[1;33m)\u001b[0m\u001b[1;33m\u001b[0m\u001b[1;33m\u001b[0m\u001b[0m\n\u001b[0m",
      "\u001b[1;32m~\\Desktop\\Projects\\Practice\\Machine learning\\Geneticflow\\algorithms\\__init__.py\u001b[0m in \u001b[0;36mfit\u001b[1;34m(self, fit_func, population, generations, crossover, mutation, selection, elitism, verbose, fitness_threshold, fit_mode)\u001b[0m\n\u001b[0;32m    105\u001b[0m \u001b[1;33m\u001b[0m\u001b[0m\n\u001b[0;32m    106\u001b[0m         \u001b[1;32mfor\u001b[0m \u001b[0mgeneration\u001b[0m \u001b[1;32min\u001b[0m \u001b[0mrange\u001b[0m\u001b[1;33m(\u001b[0m\u001b[0mgenerations\u001b[0m\u001b[1;33m)\u001b[0m\u001b[1;33m:\u001b[0m\u001b[1;33m\u001b[0m\u001b[1;33m\u001b[0m\u001b[0m\n\u001b[1;32m--> 107\u001b[1;33m             \u001b[0mpopulation_gens\u001b[0m \u001b[1;33m=\u001b[0m \u001b[0mbase_genome\u001b[0m\u001b[1;33m.\u001b[0m\u001b[0mgenerate_population\u001b[0m\u001b[1;33m(\u001b[0m\u001b[0mpopulation\u001b[0m\u001b[1;33m=\u001b[0m\u001b[0mpopulation\u001b[0m\u001b[1;33m,\u001b[0m \u001b[0mmutation\u001b[0m\u001b[1;33m=\u001b[0m\u001b[0mmutation\u001b[0m\u001b[1;33m)\u001b[0m\u001b[1;33m\u001b[0m\u001b[1;33m\u001b[0m\u001b[0m\n\u001b[0m\u001b[0;32m    108\u001b[0m \u001b[1;33m\u001b[0m\u001b[0m\n\u001b[0;32m    109\u001b[0m             \u001b[1;32mif\u001b[0m \u001b[0melitism_gens\u001b[0m\u001b[1;33m:\u001b[0m\u001b[1;33m\u001b[0m\u001b[1;33m\u001b[0m\u001b[0m\n",
      "\u001b[1;32m~\\Desktop\\Projects\\Practice\\Machine learning\\Geneticflow\\genomes\\__init__.py\u001b[0m in \u001b[0;36mgenerate_population\u001b[1;34m(self, population, mutation)\u001b[0m\n\u001b[0;32m     65\u001b[0m \u001b[1;33m\u001b[0m\u001b[0m\n\u001b[0;32m     66\u001b[0m         \u001b[1;32mfor\u001b[0m \u001b[0mi\u001b[0m \u001b[1;32min\u001b[0m \u001b[0mrange\u001b[0m\u001b[1;33m(\u001b[0m\u001b[0mpopulation\u001b[0m\u001b[1;33m)\u001b[0m\u001b[1;33m:\u001b[0m\u001b[1;33m\u001b[0m\u001b[1;33m\u001b[0m\u001b[0m\n\u001b[1;32m---> 67\u001b[1;33m             \u001b[0mx\u001b[0m \u001b[1;33m=\u001b[0m \u001b[0mmutation\u001b[0m\u001b[1;33m(\u001b[0m\u001b[0mself\u001b[0m\u001b[1;33m.\u001b[0m\u001b[0mclone\u001b[0m\u001b[1;33m(\u001b[0m\u001b[1;33m)\u001b[0m\u001b[1;33m)\u001b[0m\u001b[1;33m\u001b[0m\u001b[1;33m\u001b[0m\u001b[0m\n\u001b[0m\u001b[0;32m     68\u001b[0m             \u001b[0mpop\u001b[0m\u001b[1;33m.\u001b[0m\u001b[0mappend\u001b[0m\u001b[1;33m(\u001b[0m\u001b[0mx\u001b[0m\u001b[1;33m)\u001b[0m\u001b[1;33m\u001b[0m\u001b[1;33m\u001b[0m\u001b[0m\n\u001b[0;32m     69\u001b[0m \u001b[1;33m\u001b[0m\u001b[0m\n",
      "\u001b[1;32m~\\Desktop\\Projects\\Practice\\Machine learning\\Geneticflow\\mutations\\__init__.py\u001b[0m in \u001b[0;36m__call__\u001b[1;34m(self, genome)\u001b[0m\n\u001b[0;32m     53\u001b[0m \u001b[1;33m\u001b[0m\u001b[0m\n\u001b[0;32m     54\u001b[0m     \u001b[1;32mdef\u001b[0m \u001b[0m__call__\u001b[0m\u001b[1;33m(\u001b[0m\u001b[0mself\u001b[0m\u001b[1;33m,\u001b[0m \u001b[0mgenome\u001b[0m\u001b[1;33m)\u001b[0m\u001b[1;33m:\u001b[0m\u001b[1;33m\u001b[0m\u001b[1;33m\u001b[0m\u001b[0m\n\u001b[1;32m---> 55\u001b[1;33m         \u001b[1;32mreturn\u001b[0m \u001b[0mself\u001b[0m\u001b[1;33m.\u001b[0m\u001b[0mcall\u001b[0m\u001b[1;33m(\u001b[0m\u001b[0mgenome\u001b[0m\u001b[1;33m)\u001b[0m\u001b[1;33m\u001b[0m\u001b[1;33m\u001b[0m\u001b[0m\n\u001b[0m\u001b[0;32m     56\u001b[0m \u001b[1;33m\u001b[0m\u001b[0m\n\u001b[0;32m     57\u001b[0m \u001b[1;33m\u001b[0m\u001b[0m\n",
      "\u001b[1;32m~\\Desktop\\Projects\\Practice\\Machine learning\\Geneticflow\\mutations\\__init__.py\u001b[0m in \u001b[0;36mcall\u001b[1;34m(self, genome)\u001b[0m\n\u001b[0;32m    111\u001b[0m                 \u001b[0mgenome\u001b[0m\u001b[1;33m.\u001b[0m\u001b[0mprops\u001b[0m\u001b[1;33m[\u001b[0m\u001b[0mprop\u001b[0m\u001b[1;33m]\u001b[0m \u001b[1;33m=\u001b[0m \u001b[0mself\u001b[0m\u001b[1;33m.\u001b[0m\u001b[0mfuncs\u001b[0m\u001b[1;33m[\u001b[0m\u001b[1;34m'array_like'\u001b[0m\u001b[1;33m]\u001b[0m\u001b[1;33m(\u001b[0m\u001b[0mx\u001b[0m\u001b[1;33m)\u001b[0m\u001b[1;33m\u001b[0m\u001b[1;33m\u001b[0m\u001b[0m\n\u001b[0;32m    112\u001b[0m             \u001b[1;32melif\u001b[0m \u001b[0mdtype\u001b[0m \u001b[1;32min\u001b[0m \u001b[0mself\u001b[0m\u001b[1;33m.\u001b[0m\u001b[0mfuncs\u001b[0m\u001b[1;33m:\u001b[0m\u001b[1;33m\u001b[0m\u001b[1;33m\u001b[0m\u001b[0m\n\u001b[1;32m--> 113\u001b[1;33m                 \u001b[0mgenome\u001b[0m\u001b[1;33m.\u001b[0m\u001b[0mprops\u001b[0m\u001b[1;33m[\u001b[0m\u001b[0mprop\u001b[0m\u001b[1;33m]\u001b[0m \u001b[1;33m=\u001b[0m \u001b[0mself\u001b[0m\u001b[1;33m.\u001b[0m\u001b[0mfuncs\u001b[0m\u001b[1;33m[\u001b[0m\u001b[0mdtype\u001b[0m\u001b[1;33m]\u001b[0m\u001b[1;33m(\u001b[0m\u001b[0mx\u001b[0m\u001b[1;33m)\u001b[0m\u001b[1;33m\u001b[0m\u001b[1;33m\u001b[0m\u001b[0m\n\u001b[0m\u001b[0;32m    114\u001b[0m             \u001b[1;32melse\u001b[0m\u001b[1;33m:\u001b[0m\u001b[1;33m\u001b[0m\u001b[1;33m\u001b[0m\u001b[0m\n\u001b[0;32m    115\u001b[0m                 \u001b[1;32mraise\u001b[0m \u001b[0mException\u001b[0m\u001b[1;33m(\u001b[0m\u001b[1;34m'MutationByType encountered an unexpected type ({}) which was not specified, please pass an appropriate function to the MutationByType constructor.'\u001b[0m\u001b[1;33m.\u001b[0m\u001b[0mformat\u001b[0m\u001b[1;33m(\u001b[0m\u001b[0mdtype\u001b[0m\u001b[1;33m)\u001b[0m\u001b[1;33m)\u001b[0m\u001b[1;33m\u001b[0m\u001b[1;33m\u001b[0m\u001b[0m\n",
      "\u001b[1;32m~\\Desktop\\Projects\\Practice\\Machine learning\\Geneticflow\\mutations\\__init__.py\u001b[0m in \u001b[0;36mmutate_int\u001b[1;34m(x)\u001b[0m\n\u001b[0;32m    181\u001b[0m         \u001b[0mThe\u001b[0m \u001b[0mmutated\u001b[0m \u001b[0minteger\u001b[0m\u001b[1;33m.\u001b[0m\u001b[1;33m\u001b[0m\u001b[1;33m\u001b[0m\u001b[0m\n\u001b[0;32m    182\u001b[0m     \"\"\"\n\u001b[1;32m--> 183\u001b[1;33m     \u001b[1;32mreturn\u001b[0m \u001b[0mnp\u001b[0m\u001b[1;33m.\u001b[0m\u001b[0mrandom\u001b[0m\u001b[1;33m.\u001b[0m\u001b[0mrandint\u001b[0m\u001b[1;33m(\u001b[0m\u001b[1;36m0\u001b[0m\u001b[1;33m,\u001b[0m \u001b[1;33m(\u001b[0m\u001b[0mx\u001b[0m\u001b[1;33m*\u001b[0m\u001b[1;36m2\u001b[0m\u001b[1;33m)\u001b[0m \u001b[1;33m+\u001b[0m \u001b[1;36m1\u001b[0m\u001b[1;33m)\u001b[0m\u001b[1;33m\u001b[0m\u001b[1;33m\u001b[0m\u001b[0m\n\u001b[0m\u001b[0;32m    184\u001b[0m \u001b[1;33m\u001b[0m\u001b[0m\n\u001b[0;32m    185\u001b[0m \u001b[1;33m\u001b[0m\u001b[0m\n",
      "\u001b[1;32mmtrand.pyx\u001b[0m in \u001b[0;36mmtrand.RandomState.randint\u001b[1;34m()\u001b[0m\n",
      "\u001b[1;31mValueError\u001b[0m: high is out of bounds for int32"
     ]
    }
   ],
   "source": [
    "base_genome = Genome(a=1)\n",
    "\n",
    "def fit_func(genome):\n",
    "    genome.fitness = genome.a\n",
    "    return genome\n",
    "\n",
    "base = Base()\n",
    "base.compile_base(base_genome)\n",
    "history = base.fit(fit_func)"
   ]
  },
  {
   "cell_type": "code",
   "execution_count": null,
   "metadata": {},
   "outputs": [],
   "source": []
  }
 ],
 "metadata": {
  "kernelspec": {
   "display_name": "Python 3",
   "language": "python",
   "name": "python3"
  },
  "language_info": {
   "codemirror_mode": {
    "name": "ipython",
    "version": 3
   },
   "file_extension": ".py",
   "mimetype": "text/x-python",
   "name": "python",
   "nbconvert_exporter": "python",
   "pygments_lexer": "ipython3",
   "version": "3.7.4"
  }
 },
 "nbformat": 4,
 "nbformat_minor": 4
}
