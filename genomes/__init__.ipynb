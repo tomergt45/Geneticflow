{
 "cells": [
  {
   "cell_type": "code",
   "execution_count": 14,
   "metadata": {},
   "outputs": [],
   "source": [
    "import tensorflow as tf\n",
    "import numpy as np\n",
    "import copy"
   ]
  },
  {
   "cell_type": "code",
   "execution_count": 12,
   "metadata": {},
   "outputs": [],
   "source": [
    "class Genome:\n",
    "    \"\"\"\n",
    "    Represents a genome. Used to hold the \"DNA\" of an object.\n",
    "    This is the base class for all other genomes.\n",
    "    \"\"\"\n",
    "    def __init__(self, name=None, **props):\n",
    "        self.name = name\n",
    "        self.fitness = 0\n",
    "        self.props = props\n",
    "        \n",
    "    def clone(self):\n",
    "        \"\"\"Returns a deep copy of the current genome.\"\"\"\n",
    "        return Genome(name=self.name, **copy.deepcopy(self.props))\n",
    "    \n",
    "    def generate_population(self, population, mutation):\n",
    "        \"\"\"\n",
    "        Generates a population of the current genome, each with diffrent mutations.\n",
    "        \n",
    "        Parameters\n",
    "        -----------\n",
    "        population: int\n",
    "            The number of mutated versions of the current genome to generate.\n",
    "        mutation: func\n",
    "            The mutation function used to decide how a genome is mutated.\n",
    "            \n",
    "        Returns\n",
    "        --------\n",
    "        out: list\n",
    "            A list of genomes.\n",
    "        \"\"\"\n",
    "        return [mutation(self.clone()) for i in range(population)]\n",
    "        \n",
    "    def __str__(self):\n",
    "        s = f'<Genome fitness=\"{self.fitness}\"'\n",
    "        if self.name:\n",
    "            s += f' name=\"{self.name}\"'\n",
    "        s+= '>'\n",
    "        return s\n",
    "    def __repr__(self):\n",
    "        return self.__str__()\n",
    "    def __getattr__(self, attr):\n",
    "        if attr in self.props:\n",
    "            return self.props[attr]\n",
    "        else:\n",
    "            raise AttributeError('\\'Genome\\' object has no attribute \\'{}\\''.format(attr))"
   ]
  },
  {
   "cell_type": "code",
   "execution_count": 62,
   "metadata": {},
   "outputs": [],
   "source": [
    "class GenomeNode:\n",
    "    def __init__(self):\n",
    "        self.outputs = []\n",
    "    \n",
    "    def connect_layer(self, layer):\n",
    "        self.outputs.append(layer)\n",
    "    \n",
    "    def __str__(self):\n",
    "        return f'<{type(self).__name__}>'\n",
    "    def __repr__(self):\n",
    "        return self.__str__()"
   ]
  },
  {
   "cell_type": "code",
   "execution_count": 64,
   "metadata": {},
   "outputs": [],
   "source": [
    "class GenomeInputNode(GenomeNode):\n",
    "    def __init__(self):\n",
    "        super().__init__()\n",
    "        \n",
    "    def to_layer(self, shape=1):\n",
    "        return tf.keras.layers.InputLayer(shape)"
   ]
  },
  {
   "cell_type": "code",
   "execution_count": 65,
   "metadata": {},
   "outputs": [],
   "source": [
    "class GenomeDenseNode(GenomeNode):\n",
    "    def __init__(self, activation='relu'):\n",
    "        super().__init__()\n",
    "        self.activation = activation\n",
    "        \n",
    "    def to_layer(self):\n",
    "        return tf.keras.layers.Dense(1, self.activation)"
   ]
  },
  {
   "cell_type": "code",
   "execution_count": 69,
   "metadata": {},
   "outputs": [
    {
     "data": {
      "text/plain": [
       "[<GenomeDenseNode>]"
      ]
     },
     "execution_count": 69,
     "metadata": {},
     "output_type": "execute_result"
    }
   ],
   "source": [
    "# input1 = GenomeInputNode()\n",
    "# output1 = GenomeDenseNode()\n",
    "\n",
    "# input1.connect_layer(output1)\n",
    "\n",
    "# input1.outputs"
   ]
  },
  {
   "cell_type": "code",
   "execution_count": null,
   "metadata": {},
   "outputs": [],
   "source": [
    "# # Option 1\n",
    "# # Connect all nodes to target nodes\n",
    "# # Target can be a layer or a single node.\n",
    "# inputs.connect_layer(hidden)\n",
    "\n",
    "# # Option 2\n",
    "# # Connect node i to target nodes\n",
    "# # Target can be a layer or a single node.\n",
    "# inputs.nodes[i].connect_node(hidden)"
   ]
  }
 ],
 "metadata": {
  "kernelspec": {
   "display_name": "Python 3",
   "language": "python",
   "name": "python3"
  },
  "language_info": {
   "codemirror_mode": {
    "name": "ipython",
    "version": 3
   },
   "file_extension": ".py",
   "mimetype": "text/x-python",
   "name": "python",
   "nbconvert_exporter": "python",
   "pygments_lexer": "ipython3",
   "version": "3.7.4"
  }
 },
 "nbformat": 4,
 "nbformat_minor": 4
}
