{
 "cells": [
  {
   "cell_type": "code",
   "execution_count": 2,
   "metadata": {},
   "outputs": [],
   "source": [
    "import os\n",
    "import sys\n",
    "sys.path.append(os.path.realpath('..'))\n",
    "\n",
    "import tensorflow as tf\n",
    "import numpy as np\n",
    "from tensorflow import keras\n",
    "\n",
    "from utils import utils"
   ]
  },
  {
   "cell_type": "code",
   "execution_count": 10,
   "metadata": {},
   "outputs": [],
   "source": [
    "def add_node(layer):\n",
    "    \"\"\"\n",
    "    Create a clone of the layer with an additional node.\n",
    "    \n",
    "    Parameters\n",
    "    -----------\n",
    "    layer: keras.layers.Layer\n",
    "        The layer to add a note to.\n",
    "    \n",
    "    Returns\n",
    "    --------\n",
    "    out: keras.layers.Layer\n",
    "        A clone of the original layer with one additional node.\n",
    "    \"\"\"\n",
    "    units = layer.units\n",
    "    inbound_layer = layer.inbound_nodes[0].inbound_layers\n",
    "    outbound_layer = layer.outbound_nodes[0].outbound_layer\n",
    "\n",
    "    clone = utils.clone_layer(layer, {'units': units+1})\n",
    "    outbound_layer_clone = utils.clone_layer(outbound_layer)\n",
    "\n",
    "    x = clone(layer.input)\n",
    "    x = outbound_layer_clone(clone.output)\n",
    "\n",
    "    clone_weights = utils.connect_weights(inbound_layer, clone)\n",
    "    clone.set_weights([clone_weights, clone.bias.numpy()])\n",
    "    \n",
    "    outbound_layer_clone_weights = utils.connect_weights(clone, outbound_layer, from_layer2=True)\n",
    "    outbound_layer_clone.set_weights([outbound_layer_clone_weights, outbound_layer.bias.numpy()])\n",
    "\n",
    "    return clone"
   ]
  },
  {
   "cell_type": "code",
   "execution_count": null,
   "metadata": {},
   "outputs": [],
   "source": [
    "def remove_node(layer):\n",
    "    \"\"\"\n",
    "    Create a clone of the layer with one node less.\n",
    "    \n",
    "    Parameters\n",
    "    -----------\n",
    "    layer: keras.layers.Layer\n",
    "        The layer to remove a note from.\n",
    "    \n",
    "    Returns\n",
    "    --------\n",
    "    out: keras.layers.Layer\n",
    "        A clone of the original layer with one node less.\n",
    "    \"\"\"\n",
    "    units = layer.units\n",
    "    inbound_layer = layer.inbound_nodes[0].inbound_layers\n",
    "    outbound_layer = layer.outbound_nodes[0].outbound_layer\n",
    "\n",
    "    clone = utils.clone_layer(layer, {'units': units-1})\n",
    "    outbound_layer_clone = utils.clone_layer(outbound_layer)\n",
    "\n",
    "    x = clone(layer.input)\n",
    "    x = outbound_layer_clone(clone.output)\n",
    "\n",
    "    clone_weights = utils.connect_weights(inbound_layer, clone)\n",
    "    clone.set_weights([clone_weights, clone.bias.numpy()])\n",
    "    \n",
    "    outbound_layer_clone_weights = utils.connect_weights(clone, outbound_layer, from_layer2=True)\n",
    "    outbound_layer_clone.set_weights([outbound_layer_clone_weights, outbound_layer.bias.numpy()])\n",
    "\n",
    "    return clone"
   ]
  },
  {
   "cell_type": "code",
   "execution_count": 4,
   "metadata": {},
   "outputs": [],
   "source": [
    "def add_layer(model, nodes=1, activation='relu'):\n",
    "    \"\"\"\n",
    "    Create a clone of the model with an additional layer at the end.\n",
    "    \n",
    "    Parameters\n",
    "    -----------\n",
    "    model: keras.Model\n",
    "    \n",
    "    Returns\n",
    "    --------\n",
    "    out: keras.Model\n",
    "        A clone of the model with a new layer.\n",
    "    \"\"\"\n",
    "    layer = keras.layers.Dense(1, activation='relu')\n",
    "    x = layer(model.layers[-2].output)\n",
    "    \n",
    "    last_layer = model.layers[-1]\n",
    "    last_layer_clone = utils.clone_layer(last_layer)\n",
    "    outputs = last_layer_clone(x)\n",
    "    \n",
    "    weights = utils.connect_weights(layer, last_layer, from_layer2=True)\n",
    "    last_layer_clone.set_weights([weights, last_layer_clone.bias.numpy()])\n",
    "    return keras.Model(inputs=model.input, outputs=outputs)"
   ]
  },
  {
   "cell_type": "code",
   "execution_count": null,
   "metadata": {},
   "outputs": [],
   "source": []
  },
  {
   "cell_type": "code",
   "execution_count": null,
   "metadata": {},
   "outputs": [],
   "source": []
  }
 ],
 "metadata": {
  "kernelspec": {
   "display_name": "Python 3",
   "language": "python",
   "name": "python3"
  },
  "language_info": {
   "codemirror_mode": {
    "name": "ipython",
    "version": 3
   },
   "file_extension": ".py",
   "mimetype": "text/x-python",
   "name": "python",
   "nbconvert_exporter": "python",
   "pygments_lexer": "ipython3",
   "version": "3.7.4"
  }
 },
 "nbformat": 4,
 "nbformat_minor": 4
}
