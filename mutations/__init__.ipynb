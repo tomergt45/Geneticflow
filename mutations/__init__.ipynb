{
 "cells": [
  {
   "cell_type": "code",
   "execution_count": 1,
   "metadata": {},
   "outputs": [],
   "source": [
    "import os, sys\n",
    "sys.path.append(os.path.realpath('..'))\n",
    "\n",
    "import tensorflow as tf\n",
    "import numpy as np\n",
    "\n",
    "import utils"
   ]
  },
  {
   "cell_type": "code",
   "execution_count": 4,
   "metadata": {},
   "outputs": [],
   "source": [
    "def get(name):\n",
    "    return globals()[name]"
   ]
  },
  {
   "cell_type": "code",
   "execution_count": 2,
   "metadata": {},
   "outputs": [],
   "source": [
    "def mutate_genome(genome, rates=1/3, initializer=None):\n",
    "    \"\"\"\n",
    "    Default genome mutation function.\n",
    "    Applying mutations based on the given rates, if rates is an integer then all parameters will have a chance in x (where x is the integer) to be mutated.\n",
    "    \n",
    "    Parameters\n",
    "    -----------\n",
    "    genome: Genome\n",
    "        The genome to mutate.\n",
    "    rates: int or dict, optional\n",
    "        The chances of each parameter to mutate, if dict is passed then each entry needs to be in the structure {param_name: rate}, otherwise if an integer is passed then all parameters will have a chance of x (where x is the integer) to be mutated.\n",
    "    initalizer: func(shape) -> val\n",
    "        The function used to create a new value, the function receives a shape and returns a new value, by default this function is numpy `rand` func.\n",
    "    Returns\n",
    "    --------\n",
    "    out: Genome\n",
    "        The mutated genome.\n",
    "    \"\"\"\n",
    "    if not initializer:\n",
    "        initializer = np.random.rand\n",
    "       \n",
    "    clone = genome.clone()\n",
    "    for param in clone.props:\n",
    "        rate = rates[param] if type(rates) is dict else rates\n",
    "        \n",
    "        if utils.chance(rate):\n",
    "            shape = np.shape(clone.props[param])\n",
    "            clone.props[param] = initializer(*shape)\n",
    "        \n",
    "    return clone"
   ]
  },
  {
   "cell_type": "code",
   "execution_count": 3,
   "metadata": {},
   "outputs": [],
   "source": [
    "def mutate_nn_genome(genome, node_add_rate=0.1, node_remove_rate=0.1, layer_add_rate=0.01, layer_remove_rate=0.01, weights_change_rate=0.2, biases_change_rate=0.7):\n",
    "    \"\"\"\n",
    "    Returns a mutated version of the given genome.\n",
    "    \"\"\"\n",
    "    for layer in genome.layers:\n",
    "        if chance(layer_remove_rate):\n",
    "            genome.remove_layer(layer)\n",
    "        elif chance(node_add_rate):\n",
    "            genome.add_node(layer)\n",
    "        elif chance(node_remove_rate):\n",
    "            genome.remove_node(layer)\n",
    "        \n",
    "        if chance(weights_change_rate):\n",
    "            genome.change_weights(layer)\n",
    "        if chance(biases_change_rate):\n",
    "            genome.change_biases(layer)\n",
    "    \n",
    "    if chance(layer_add_rate):\n",
    "        genome.add_hidden_layer()\n",
    "    \n",
    "    return genome"
   ]
  },
  {
   "cell_type": "code",
   "execution_count": null,
   "metadata": {},
   "outputs": [],
   "source": []
  }
 ],
 "metadata": {
  "kernelspec": {
   "display_name": "Python 3",
   "language": "python",
   "name": "python3"
  },
  "language_info": {
   "codemirror_mode": {
    "name": "ipython",
    "version": 3
   },
   "file_extension": ".py",
   "mimetype": "text/x-python",
   "name": "python",
   "nbconvert_exporter": "python",
   "pygments_lexer": "ipython3",
   "version": "3.7.4"
  }
 },
 "nbformat": 4,
 "nbformat_minor": 4
}
